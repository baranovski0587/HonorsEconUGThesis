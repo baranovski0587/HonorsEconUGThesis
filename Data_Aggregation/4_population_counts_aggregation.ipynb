{
 "cells": [
  {
   "cell_type": "code",
   "execution_count": null,
   "id": "585336bd",
   "metadata": {},
   "outputs": [],
   "source": [
    "def parse_seer_pop_line(line):\n",
    "    year_str = line[0:4]\n",
    "    state_fips_str = line[6:8]\n",
    "    county_fips_str = line[8:11]\n",
    "    race_str = line[13:14]\n",
    "    origin_str = line[14:15]\n",
    "    sex_str = line[15:16]\n",
    "    age_str = line[16:18]\n",
    "    pop_str = line[18:26]\n",
    "\n",
    "    year = int(year_str)\n",
    "    state_fips = int(state_fips_str)\n",
    "    county_fips = int(county_fips_str)\n",
    "    race = int(race_str)\n",
    "    origin = int(origin_str)\n",
    "    sex = int(sex_str)\n",
    "    age = int(age_str)\n",
    "    population = int(pop_str)\n",
    "\n",
    "    fips_str = f\"{state_fips:02d}{county_fips:03d}\"\n",
    "\n",
    "    return {\n",
    "        \"year\": year,\n",
    "        \"state_fips\": state_fips,\n",
    "        \"county_fips\": county_fips,\n",
    "        \"fips\": fips_str,\n",
    "        \"race_code\": race,\n",
    "        \"origin_code\": origin,\n",
    "        \"sex_code\": sex,\n",
    "        \"age_code\": age,\n",
    "        \"population\": population\n",
    "    }\n"
   ]
  },
  {
   "cell_type": "code",
   "execution_count": null,
   "id": "72545f33",
   "metadata": {},
   "outputs": [],
   "source": [
    "import pandas as pd\n",
    "from pathlib import Path\n",
    "\n",
    "BASE_DIR =Path.cwd().resolve()\n",
    "\n",
    "pop_filepath = (BASE_DIR / \"..\" / \"Data\" / \"Population_Data\" / \"us.1969_2023.20ages.adjusted\" / \"us.1969_2023.20ages.adjusted.txt\").resolve()\n",
    "\n",
    "pop_records = []\n",
    "\n",
    "with open(pop_filepath, 'r', encoding='utf-8') as f:\n",
    "    for line in f:\n",
    "        year_str = line[0:4]\n",
    "        year = int(year_str)\n",
    "\n",
    "        if year == 1989:\n",
    "            row = parse_seer_pop_line(line)\n",
    "            pop_records.append(row)\n",
    "\n",
    "df_pop_1989 = pd.DataFrame(pop_records)\n",
    "\n",
    "pop_filepath = (BASE_DIR / \"..\" / \"Data\" / \"Population_Data\" / \"us.1990_2023.20ages.adjusted.expanded\" / \"us.1969_2023.20ages.adjusted.txt\").resolve()\n",
    "\n",
    "pop_records = []\n",
    "\n",
    "with open(pop_filepath, 'r', encoding='utf-8') as f:\n",
    "    for line in f:\n",
    "        year_str = line[0:4]\n",
    "        year = int(year_str)\n",
    "\n",
    "        if 1990<= year <=2019:\n",
    "            row = parse_seer_pop_line(line)\n",
    "            pop_records.append(row)\n",
    "\n",
    "df_pop_1990_2019 = pd.DataFrame(pop_records)\n",
    "\n"
   ]
  },
  {
   "cell_type": "code",
   "execution_count": 3,
   "id": "f92b74f0",
   "metadata": {},
   "outputs": [],
   "source": [
    "df_pop_full = pd.concat([df_pop_1989, df_pop_1990_2019], ignore_index=True)"
   ]
  },
  {
   "cell_type": "code",
   "execution_count": 4,
   "id": "e1647da3",
   "metadata": {},
   "outputs": [],
   "source": [
    "def bin_age_pop(age_code):\n",
    "    if age_code < 6:\n",
    "        return \"0-24\"\n",
    "    elif 6 <= age_code < 14:\n",
    "        return \"25-64\"\n",
    "    else:\n",
    "        return \"65+\"\n",
    "\n",
    "df_pop_full[\"age_bin\"] = df_pop_full[\"age_code\"].apply(bin_age_pop)\n",
    "\n",
    "def bin_pop_race(race_code, origin_code):\n",
    "    \"\"\"\n",
    "    race_code -> 1 = White, 2 = Black, 3 = AI/AN, 4 = API (in 1990+),\n",
    "                 'other' catch-all for 3,4\n",
    "    origin_code -> 0=Non-Hispanic, 1=Hispanic, 9=Not applicable\n",
    "    \"\"\"\n",
    "    if race_code == 1 and origin_code == 0:\n",
    "        return \"white/non-hispanic\"\n",
    "    elif race_code != 1 or origin_code == 1:\n",
    "        return \"non-white/hispanic\"\n",
    "    else:\n",
    "        return None\n",
    "\n",
    "df_pop_full[\"race_bin\"] = df_pop_full.apply(\n",
    "    lambda row: bin_pop_race(row[\"race_code\"], row[\"origin_code\"]), axis=1\n",
    ")\n",
    "\n",
    "def bin_pop_sex(sex_code):\n",
    "    if sex_code == 1:\n",
    "        return 'M'\n",
    "    else:\n",
    "        return 'F'\n",
    "\n",
    "df_pop_full[\"sex_bin\"] = df_pop_full['sex_code'].apply(bin_pop_sex)\n"
   ]
  },
  {
   "cell_type": "code",
   "execution_count": null,
   "id": "b74a43d0",
   "metadata": {},
   "outputs": [],
   "source": [
    "from collections import defaultdict\n",
    "from pathlib import Path\n",
    "import pandas as pd\n",
    "\n",
    "BASE_DIR = Path.cwd().resolve()\n",
    "\n",
    "raw_filepath = (BASE_DIR / \"..\" / \"Data\" / \"Population_Data\" / \"us.1969_2023.20ages.adjusted\" / \"us.1969_2023.20ages.adjusted.txt\").resolve()\n",
    "\n",
    "totals = defaultdict(int)\n",
    "\n",
    "with open(raw_filepath, 'r', encoding='latin1') as f:\n",
    "    for line in f:\n",
    "        year = int(line[0:4])\n",
    "        state = int(line[6:8])\n",
    "        county = int(line[8:11])\n",
    "        fips = f\"{state:02d}{county:03d}\"\n",
    "        pop = int(line[18:26])\n",
    "        if 1989 <= year <= 2019:\n",
    "            totals[(fips, year)] += pop\n",
    "\n",
    "records = [\n",
    "    {\"fips\": f, \"year\": y, \"Attribute\": \"Total\", \"Population\": p}\n",
    "    for (f, y), p in totals.items()\n",
    "]\n",
    "df_totals = pd.DataFrame(records)\n",
    "\n"
   ]
  },
  {
   "cell_type": "code",
   "execution_count": null,
   "id": "537a9a13",
   "metadata": {},
   "outputs": [],
   "source": [
    "from pathlib import Path\n",
    "import pandas as pd\n",
    "\n",
    "BASE_DIR = Path.cwd().resolve()\n",
    "\n",
    "edu_filepath = (BASE_DIR / \"..\" / \"Data\" / \"Additional Data\" / \"Education2023.csv\").resolve()\n",
    "\n",
    "df = pd.read_csv(\n",
    "    edu_filepath,\n",
    "    dtype={\"FIPS Code\": str}, \n",
    "    encoding=\"cp1252\" \n",
    ")\n",
    "\n",
    "print(df.head())\n",
    "\n"
   ]
  },
  {
   "cell_type": "code",
   "execution_count": null,
   "id": "51c890d6",
   "metadata": {},
   "outputs": [],
   "source": [
    "df[\"FIPS Code\"] = df[\"FIPS Code\"].str.zfill(5)\n"
   ]
  },
  {
   "cell_type": "code",
   "execution_count": 9,
   "id": "b4fb6255",
   "metadata": {},
   "outputs": [],
   "source": [
    "df[[\"Measure\", \"Year\"]] = df[\"Attribute\"].str.rsplit(\", \", n=1, expand=True)\n"
   ]
  },
  {
   "cell_type": "code",
   "execution_count": 10,
   "id": "fec87913",
   "metadata": {},
   "outputs": [],
   "source": [
    "count_measures = [\n",
    "    \"Less than a high school diploma\",\n",
    "    \"High school diploma only\",\n",
    "    \"Some college (1-3 years)\",\n",
    "    \"Four years of college or higher\",\n",
    "    \"Less than high school graduate\",\n",
    "    \"High school graduate (or equivalency)\",\n",
    "    \"Some college or associate degree\",\n",
    "    \"Bachelor's degree or higher\",\n",
    "]\n",
    "df_cnt = df[df[\"Measure\"].isin(count_measures)].copy()\n"
   ]
  },
  {
   "cell_type": "code",
   "execution_count": 11,
   "id": "bbc7e030",
   "metadata": {},
   "outputs": [],
   "source": [
    "map_cat = {\n",
    "    # HS or less\n",
    "    \"Less than a high school diploma\":           \"HS_or_less\",\n",
    "    \"High school diploma only\":                   \"HS_or_less\",\n",
    "    \"Less than high school graduate\":             \"HS_or_less\",\n",
    "    \"High school graduate (or equivalency)\":      \"HS_or_less\",\n",
    "    # Some college or more\n",
    "    \"Some college (1-3 years)\":                   \"SomeColl_or_more\",\n",
    "    \"Some college or associate degree\":           \"SomeColl_or_more\",\n",
    "    \"Four years of college or higher\":            \"SomeColl_or_more\",\n",
    "    \"Bachelor's degree or higher\":                \"SomeColl_or_more\",\n",
    "}\n",
    "df_cnt[\"Category\"] = df_cnt[\"Measure\"].map(map_cat)"
   ]
  },
  {
   "cell_type": "code",
   "execution_count": 12,
   "id": "1c37da5a",
   "metadata": {},
   "outputs": [],
   "source": [
    "df_wide = (\n",
    "    df_cnt\n",
    "      .pivot_table(\n",
    "         index=[\"FIPS Code\",\"Year\"],\n",
    "         columns=\"Category\",\n",
    "         values=\"Value\",\n",
    "         aggfunc=\"sum\"    # sum the two relevant measures into each category\n",
    "      )\n",
    "      .reset_index()\n",
    ")"
   ]
  },
  {
   "cell_type": "code",
   "execution_count": 13,
   "id": "16c2dc6d",
   "metadata": {},
   "outputs": [],
   "source": [
    "year_map = {\n",
    "    \"1970\":    1970,\n",
    "    \"1980\":    1980,\n",
    "    \"1990\":    1990,\n",
    "    \"2000\":    2000,\n",
    "    \"2008-12\": 2010,   # midpoint\n",
    "    \"2019-23\": 2021,   # midpoint (we’ll filter later)\n",
    "}\n",
    "df_wide[\"Year_num\"] = df_wide[\"Year\"].map(year_map)"
   ]
  },
  {
   "cell_type": "code",
   "execution_count": 14,
   "id": "2835905d",
   "metadata": {},
   "outputs": [],
   "source": [
    "years = list(range(1970,2022))"
   ]
  },
  {
   "cell_type": "code",
   "execution_count": null,
   "id": "0bfa9899",
   "metadata": {},
   "outputs": [
    {
     "name": "stderr",
     "output_type": "stream",
     "text": [
      "C:\\Users\\yegor\\AppData\\Local\\Temp\\ipykernel_10416\\781388074.py:15: DeprecationWarning: DataFrameGroupBy.apply operated on the grouping columns. This behavior is deprecated, and in a future version of pandas the grouping columns will be excluded from the operation. Either pass `include_groups=False` to exclude the groupings or explicitly select the grouping columns after groupby to silence this warning.\n",
      "  .apply(interp_counts)\n"
     ]
    }
   ],
   "source": [
    "def interp_counts(group):\n",
    "    #reindex to full year range and interpolate counts linearly\n",
    "    g = group.set_index(\"Year_num\").reindex(years)\n",
    "    g[[\"HS_or_less\",\"SomeColl_or_more\"]] = (\n",
    "        g[[\"HS_or_less\",\"SomeColl_or_more\"]]\n",
    "          .interpolate(method=\"linear\")\n",
    "    )\n",
    "    #carry FIPS Code forward/backward to fill the new rows\n",
    "    g[\"FIPS Code\"] = group[\"FIPS Code\"].iloc[0]\n",
    "    return g\n",
    "\n",
    "df_interp = (\n",
    "    df_wide\n",
    "      .groupby(\"FIPS Code\", as_index=False)\n",
    "      .apply(interp_counts)\n",
    "      .reset_index()\n",
    ")\n",
    "df_final = df_interp.reset_index(drop=True)\n"
   ]
  },
  {
   "cell_type": "code",
   "execution_count": 16,
   "id": "7cee2d6d",
   "metadata": {},
   "outputs": [],
   "source": [
    "df_edu = df_final[\n",
    "    (df_final[\"Year_num\"] >= 1989) &\n",
    "    (df_final[\"Year_num\"] <= 2019)\n",
    "].reset_index(drop=True)"
   ]
  },
  {
   "cell_type": "code",
   "execution_count": null,
   "id": "dafe203b",
   "metadata": {},
   "outputs": [
    {
     "data": {
      "image/png": "[encoded data removed]",
      "text/plain": [
       "<Figure size 640x480 with 1 Axes>"
      ]
     },
     "metadata": {},
     "output_type": "display_data"
    }
   ],
   "source": [
    "#shit test\n",
    "import matplotlib.pyplot as plt\n",
    "\n",
    "fips_code = \"00000\"  # for example\n",
    "\n",
    "df_f = df_final[df_final[\"FIPS Code\"] == fips_code]\n",
    "\n",
    "plt.figure()\n",
    "plt.plot(df_f[\"Year_num\"], df_f[\"HS_or_less\"], label=\"HS or less\")\n",
    "plt.plot(df_f[\"Year_num\"], df_f[\"SomeColl_or_more\"], label=\"Some college or more\")\n",
    "plt.xlabel(\"Year\")\n",
    "plt.ylabel(\"Count of adults\")\n",
    "plt.title(f\"Education attainment counts for FIPS {fips_code}\")\n",
    "plt.legend()\n",
    "plt.tight_layout()\n",
    "plt.show()\n"
   ]
  },
  {
   "cell_type": "code",
   "execution_count": null,
   "id": "f38b6d1a",
   "metadata": {},
   "outputs": [],
   "source": [
    "import pandas as pd\n",
    "\n",
    "#population by age bin\n",
    "df_age = (\n",
    "    df_pop_full\n",
    "    .groupby([\"fips\", \"year\", \"age_bin\"], as_index=False)[\"population\"]\n",
    "    .sum()\n",
    "    .rename(columns={\"age_bin\": \"Attribute\", \"population\": \"Population\"})\n",
    ")\n",
    "\n",
    "#population by sex bin\n",
    "df_sex = (\n",
    "    df_pop_full\n",
    "    .groupby([\"fips\", \"year\", \"sex_bin\"], as_index=False)[\"population\"]\n",
    "    .sum()\n",
    "    .rename(columns={\"sex_bin\": \"Attribute\", \"population\": \"Population\"})\n",
    ")\n",
    "\n",
    "# population by race bin\n",
    "df_race = (\n",
    "    df_pop_full\n",
    "    .groupby([\"fips\", \"year\", \"race_bin\"], as_index=False)[\"population\"]\n",
    "    .sum()\n",
    "    .rename(columns={\"race_bin\": \"Attribute\", \"population\": \"Population\"})\n",
    ")\n",
    "\n",
    "#population by education\n",
    "df2 = df_edu.drop(columns=[\"Category\",\"level_0\",\"Year\"], errors=\"ignore\")\n",
    "df2 = df2.rename(columns={\n",
    "    \"FIPS Code\": \"fips\",\n",
    "    \"Year_num\":  \"year\"\n",
    "})\n",
    "df_edu_long = df2.melt(\n",
    "    id_vars   = [\"fips\",\"year\"],\n",
    "    value_vars= [\"HS_or_less\",\"SomeColl_or_more\"],\n",
    "    var_name  = \"Attribute\",\n",
    "    value_name= \"Population\"\n",
    ")\n",
    "\n",
    "\n",
    "#Stack them all together\n",
    "df_attributes = pd.concat([ df_totals, df_age, df_sex, df_race, df_edu_long], ignore_index=True)\n",
    "\n",
    "#keep only the four columns and reorder\n",
    "df_attributes = df_attributes[[\"fips\", \"year\", \"Attribute\", \"Population\"]]\n",
    "\n",
    "df_attributes = df_attributes.dropna(subset=[\"Population\"])\n",
    "df_attributes[\"Population\"] = df_attributes[\"Population\"].astype(int)\n",
    "print(df_attributes)\n"
   ]
  },
  {
   "cell_type": "code",
   "execution_count": null,
   "id": "3dd37ba7",
   "metadata": {},
   "outputs": [],
   "source": [
    "from pathlib import Path\n",
    "\n",
    "BASE_DIR = Path.cwd().resolve()\n",
    "output_path = (BASE_DIR / \"..\" / \"Analysis\" / \"Analysis_Data\" / \"population_counts.csv\").resolve()\n",
    "\n",
    "df_attributes.to_csv(output_path, index=False)\n"
   ]
  }
 ],
 "metadata": {
  "kernelspec": {
   "display_name": "base",
   "language": "python",
   "name": "python3"
  },
  "language_info": {
   "codemirror_mode": {
    "name": "ipython",
    "version": 3
   },
   "file_extension": ".py",
   "mimetype": "text/x-python",
   "name": "python",
   "nbconvert_exporter": "python",
   "pygments_lexer": "ipython3",
   "version": "3.12.4"
  }
 },
 "nbformat": 4,
 "nbformat_minor": 5
}
